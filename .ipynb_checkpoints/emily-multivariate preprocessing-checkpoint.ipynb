{
 "cells": [
  {
   "cell_type": "code",
   "execution_count": 1,
   "id": "d9812f3d",
   "metadata": {},
   "outputs": [],
   "source": [
    "import pandas as pd\n",
    "import numpy as np\n",
    "import statsmodels.formula.api as smf\n",
    "import statsmodels.api as sm\n",
    "import seaborn as sns\n",
    "import matplotlib.pyplot as plt\n",
    "from patsy import dmatrix\n",
    "from sklearn.metrics import mean_squared_error\n",
    "from pyearth import Earth\n",
    "from sklearn.linear_model import LinearRegression\n",
    "from sklearn.linear_model import LogisticRegression, LinearRegression\n",
    "from sklearn.model_selection import train_test_split, cross_val_predict, cross_val_score\n",
    "from sklearn.preprocessing import StandardScaler\n",
    "from sklearn.metrics import accuracy_score, mean_absolute_error, mean_squared_error, r2_score, \\\n",
    "roc_curve, auc, precision_score, recall_score, confusion_matrix\n",
    "from sklearn.model_selection import KFold\n",
    "from sklearn.tree import DecisionTreeRegressor,DecisionTreeClassifier\n",
    "from sklearn.model_selection import GridSearchCV, ParameterGrid, RandomizedSearchCV\n",
    "from sklearn.ensemble import BaggingRegressor,BaggingClassifier,RandomForestRegressor,RandomForestClassifier\n",
    "from sklearn.ensemble import VotingRegressor, StackingRegressor"
   ]
  },
  {
   "cell_type": "code",
   "execution_count": 2,
   "id": "8551644a",
   "metadata": {},
   "outputs": [],
   "source": [
    "data = pd.read_csv('covid_deaths2.csv')"
   ]
  },
  {
   "cell_type": "code",
   "execution_count": 3,
   "id": "de982e88",
   "metadata": {},
   "outputs": [],
   "source": [
    "# suppressing warnings\n",
    "import warnings\n",
    "warnings.filterwarnings(\"ignore\")"
   ]
  },
  {
   "cell_type": "markdown",
   "id": "eb4687f0",
   "metadata": {},
   "source": [
    "# data preprocessing"
   ]
  },
  {
   "cell_type": "markdown",
   "id": "5b877266",
   "metadata": {},
   "source": [
    "FEATURE REDUCTION\n",
    "- Remove constant features\n",
    "- Remove quasi-constant features\n",
    "- Remove redundant features\n",
    "- Print out correlation matrix\n",
    "- Removing columns that have both a large number of missing values and low correlation w target variable\n"
   ]
  },
  {
   "cell_type": "markdown",
   "id": "42a4ea82",
   "metadata": {},
   "source": [
    "##### remove constant features"
   ]
  },
  {
   "cell_type": "code",
   "execution_count": 8,
   "id": "f959cfe2",
   "metadata": {},
   "outputs": [
    {
     "data": {
      "text/html": [
       "<div>\n",
       "<style scoped>\n",
       "    .dataframe tbody tr th:only-of-type {\n",
       "        vertical-align: middle;\n",
       "    }\n",
       "\n",
       "    .dataframe tbody tr th {\n",
       "        vertical-align: top;\n",
       "    }\n",
       "\n",
       "    .dataframe thead th {\n",
       "        text-align: right;\n",
       "    }\n",
       "</style>\n",
       "<table border=\"1\" class=\"dataframe\">\n",
       "  <thead>\n",
       "    <tr style=\"text-align: right;\">\n",
       "      <th></th>\n",
       "      <th>Unnamed: 0</th>\n",
       "      <th>Date</th>\n",
       "      <th>MMWR_week</th>\n",
       "      <th>Location</th>\n",
       "      <th>Distributed</th>\n",
       "      <th>Distributed_Janssen</th>\n",
       "      <th>Distributed_Moderna</th>\n",
       "      <th>Distributed_Pfizer</th>\n",
       "      <th>Distributed_Novavax</th>\n",
       "      <th>Distributed_Unk_Manuf</th>\n",
       "      <th>...</th>\n",
       "      <th>covid19_deaths</th>\n",
       "      <th>region_y_East</th>\n",
       "      <th>region_y_Midwest</th>\n",
       "      <th>region_y_PR</th>\n",
       "      <th>region_y_South</th>\n",
       "      <th>region_y_West</th>\n",
       "      <th>season_fall</th>\n",
       "      <th>season_spring</th>\n",
       "      <th>season_summer</th>\n",
       "      <th>season_winter</th>\n",
       "    </tr>\n",
       "  </thead>\n",
       "  <tbody>\n",
       "    <tr>\n",
       "      <th>0</th>\n",
       "      <td>2</td>\n",
       "      <td>2023-05-10</td>\n",
       "      <td>19</td>\n",
       "      <td>GA</td>\n",
       "      <td>28727475</td>\n",
       "      <td>869100</td>\n",
       "      <td>9763000</td>\n",
       "      <td>14773655</td>\n",
       "      <td>43400.0</td>\n",
       "      <td>0</td>\n",
       "      <td>...</td>\n",
       "      <td>20.0</td>\n",
       "      <td>0</td>\n",
       "      <td>0</td>\n",
       "      <td>0</td>\n",
       "      <td>1</td>\n",
       "      <td>0</td>\n",
       "      <td>0</td>\n",
       "      <td>1</td>\n",
       "      <td>0</td>\n",
       "      <td>0</td>\n",
       "    </tr>\n",
       "    <tr>\n",
       "      <th>1</th>\n",
       "      <td>4</td>\n",
       "      <td>2023-05-10</td>\n",
       "      <td>19</td>\n",
       "      <td>CO</td>\n",
       "      <td>17769135</td>\n",
       "      <td>501900</td>\n",
       "      <td>5402640</td>\n",
       "      <td>9029715</td>\n",
       "      <td>43600.0</td>\n",
       "      <td>0</td>\n",
       "      <td>...</td>\n",
       "      <td>13.0</td>\n",
       "      <td>0</td>\n",
       "      <td>0</td>\n",
       "      <td>0</td>\n",
       "      <td>0</td>\n",
       "      <td>1</td>\n",
       "      <td>0</td>\n",
       "      <td>1</td>\n",
       "      <td>0</td>\n",
       "      <td>0</td>\n",
       "    </tr>\n",
       "    <tr>\n",
       "      <th>2</th>\n",
       "      <td>5</td>\n",
       "      <td>2023-05-10</td>\n",
       "      <td>19</td>\n",
       "      <td>PA</td>\n",
       "      <td>42895735</td>\n",
       "      <td>1569200</td>\n",
       "      <td>13941120</td>\n",
       "      <td>21178525</td>\n",
       "      <td>87400.0</td>\n",
       "      <td>0</td>\n",
       "      <td>...</td>\n",
       "      <td>30.0</td>\n",
       "      <td>1</td>\n",
       "      <td>0</td>\n",
       "      <td>0</td>\n",
       "      <td>0</td>\n",
       "      <td>0</td>\n",
       "      <td>0</td>\n",
       "      <td>1</td>\n",
       "      <td>0</td>\n",
       "      <td>0</td>\n",
       "    </tr>\n",
       "    <tr>\n",
       "      <th>3</th>\n",
       "      <td>8</td>\n",
       "      <td>2023-05-10</td>\n",
       "      <td>19</td>\n",
       "      <td>WI</td>\n",
       "      <td>16474175</td>\n",
       "      <td>457200</td>\n",
       "      <td>5144600</td>\n",
       "      <td>8183105</td>\n",
       "      <td>22900.0</td>\n",
       "      <td>0</td>\n",
       "      <td>...</td>\n",
       "      <td>15.0</td>\n",
       "      <td>0</td>\n",
       "      <td>1</td>\n",
       "      <td>0</td>\n",
       "      <td>0</td>\n",
       "      <td>0</td>\n",
       "      <td>0</td>\n",
       "      <td>1</td>\n",
       "      <td>0</td>\n",
       "      <td>0</td>\n",
       "    </tr>\n",
       "    <tr>\n",
       "      <th>4</th>\n",
       "      <td>10</td>\n",
       "      <td>2023-05-10</td>\n",
       "      <td>19</td>\n",
       "      <td>TX</td>\n",
       "      <td>80813315</td>\n",
       "      <td>2667600</td>\n",
       "      <td>25478340</td>\n",
       "      <td>43584365</td>\n",
       "      <td>119500.0</td>\n",
       "      <td>0</td>\n",
       "      <td>...</td>\n",
       "      <td>53.0</td>\n",
       "      <td>0</td>\n",
       "      <td>0</td>\n",
       "      <td>0</td>\n",
       "      <td>1</td>\n",
       "      <td>0</td>\n",
       "      <td>0</td>\n",
       "      <td>1</td>\n",
       "      <td>0</td>\n",
       "      <td>0</td>\n",
       "    </tr>\n",
       "  </tbody>\n",
       "</table>\n",
       "<p>5 rows × 122 columns</p>\n",
       "</div>"
      ],
      "text/plain": [
       "   Unnamed: 0        Date  MMWR_week Location  Distributed  \\\n",
       "0           2  2023-05-10         19       GA     28727475   \n",
       "1           4  2023-05-10         19       CO     17769135   \n",
       "2           5  2023-05-10         19       PA     42895735   \n",
       "3           8  2023-05-10         19       WI     16474175   \n",
       "4          10  2023-05-10         19       TX     80813315   \n",
       "\n",
       "   Distributed_Janssen  Distributed_Moderna  Distributed_Pfizer  \\\n",
       "0               869100              9763000            14773655   \n",
       "1               501900              5402640             9029715   \n",
       "2              1569200             13941120            21178525   \n",
       "3               457200              5144600             8183105   \n",
       "4              2667600             25478340            43584365   \n",
       "\n",
       "   Distributed_Novavax  Distributed_Unk_Manuf  ...  covid19_deaths  \\\n",
       "0              43400.0                      0  ...            20.0   \n",
       "1              43600.0                      0  ...            13.0   \n",
       "2              87400.0                      0  ...            30.0   \n",
       "3              22900.0                      0  ...            15.0   \n",
       "4             119500.0                      0  ...            53.0   \n",
       "\n",
       "   region_y_East  region_y_Midwest  region_y_PR  region_y_South  \\\n",
       "0              0                 0            0               1   \n",
       "1              0                 0            0               0   \n",
       "2              1                 0            0               0   \n",
       "3              0                 1            0               0   \n",
       "4              0                 0            0               1   \n",
       "\n",
       "   region_y_West  season_fall  season_spring  season_summer  season_winter  \n",
       "0              0            0              1              0              0  \n",
       "1              1            0              1              0              0  \n",
       "2              0            0              1              0              0  \n",
       "3              0            0              1              0              0  \n",
       "4              0            0              1              0              0  \n",
       "\n",
       "[5 rows x 122 columns]"
      ]
     },
     "execution_count": 8,
     "metadata": {},
     "output_type": "execute_result"
    }
   ],
   "source": [
    "data.head()"
   ]
  },
  {
   "cell_type": "code",
   "execution_count": 9,
   "id": "1c7a0d67",
   "metadata": {},
   "outputs": [
    {
     "name": "stdout",
     "output_type": "stream",
     "text": [
      "Index([], dtype='object')\n"
     ]
    }
   ],
   "source": [
    "#### Remove constant features\n",
    "constant_features = data.columns[data.nunique() == 1]\n",
    "print(constant_features)"
   ]
  },
  {
   "cell_type": "markdown",
   "id": "b7f46d6b",
   "metadata": {},
   "source": [
    "No constant features"
   ]
  },
  {
   "cell_type": "markdown",
   "id": "4bc2c799",
   "metadata": {},
   "source": [
    "#### Remove quasi-constant features"
   ]
  },
  {
   "cell_type": "code",
   "execution_count": 13,
   "id": "687c2a01",
   "metadata": {},
   "outputs": [],
   "source": [
    "#remove quasi-constant features\n",
    "threshold = 0.95\n",
    "quasi_constant = (data.var() <= threshold)"
   ]
  },
  {
   "cell_type": "code",
   "execution_count": 14,
   "id": "f19eab62",
   "metadata": {},
   "outputs": [
    {
     "data": {
      "text/plain": [
       "Unnamed: 0             False\n",
       "MMWR_week              False\n",
       "Distributed            False\n",
       "Distributed_Janssen    False\n",
       "Distributed_Moderna    False\n",
       "                       ...  \n",
       "region_y_West           True\n",
       "season_fall             True\n",
       "season_spring           True\n",
       "season_summer           True\n",
       "season_winter           True\n",
       "Length: 120, dtype: bool"
      ]
     },
     "execution_count": 14,
     "metadata": {},
     "output_type": "execute_result"
    }
   ],
   "source": [
    "quasi_constant"
   ]
  },
  {
   "cell_type": "code",
   "execution_count": 35,
   "id": "c6f58484",
   "metadata": {},
   "outputs": [],
   "source": [
    "series_dict = dict(zip(quasi_constant.index, quasi_constant.values))"
   ]
  },
  {
   "cell_type": "code",
   "execution_count": 36,
   "id": "042afd0d",
   "metadata": {},
   "outputs": [
    {
     "data": {
      "text/plain": [
       "{'Unnamed: 0': False,\n",
       " 'MMWR_week': False,\n",
       " 'Distributed': False,\n",
       " 'Distributed_Janssen': False,\n",
       " 'Distributed_Moderna': False,\n",
       " 'Distributed_Pfizer': False,\n",
       " 'Distributed_Novavax': False,\n",
       " 'Distributed_Unk_Manuf': False,\n",
       " 'Dist_Per_100K': False,\n",
       " 'Distributed_Per_100k_5Plus': False,\n",
       " 'Distributed_Per_100k_12Plus': False,\n",
       " 'Distributed_Per_100k_18Plus': False,\n",
       " 'Distributed_Per_100k_65Plus': False,\n",
       " 'Administered': False,\n",
       " 'Administered_5Plus': False,\n",
       " 'Administered_12Plus': False,\n",
       " 'Administered_18Plus': False,\n",
       " 'Administered_65Plus': False,\n",
       " 'Administered_Janssen': False,\n",
       " 'Administered_Moderna': False,\n",
       " 'Administered_Pfizer': False,\n",
       " 'Administered_Novavax': False,\n",
       " 'Administered_Unk_Manuf': False,\n",
       " 'Admin_Per_100K': False,\n",
       " 'Admin_Per_100k_5Plus': False,\n",
       " 'Admin_Per_100k_12Plus': False,\n",
       " 'Admin_Per_100k_18Plus': False,\n",
       " 'Admin_Per_100k_65Plus': False,\n",
       " 'Recip_Administered': False,\n",
       " 'Administered_Dose1_Recip': False,\n",
       " 'Administered_Dose1_Pop_Pct': False,\n",
       " 'Administered_Dose1_Recip_5Plus': False,\n",
       " 'Administered_Dose1_Recip_5PlusPop_Pct': False,\n",
       " 'Administered_Dose1_Recip_12Plus': False,\n",
       " 'Administered_Dose1_Recip_12PlusPop_Pct': False,\n",
       " 'Administered_Dose1_Recip_18Plus': False,\n",
       " 'Administered_Dose1_Recip_18PlusPop_Pct': False,\n",
       " 'Administered_Dose1_Recip_65Plus': False,\n",
       " 'Administered_Dose1_Recip_65PlusPop_Pct': False,\n",
       " 'Series_Complete_Yes': False,\n",
       " 'Series_Complete_Pop_Pct': False,\n",
       " 'Series_Complete_5Plus': False,\n",
       " 'Series_Complete_5PlusPop_Pct': False,\n",
       " 'Series_Complete_12Plus': False,\n",
       " 'Series_Complete_12PlusPop_Pct': False,\n",
       " 'Series_Complete_18Plus': False,\n",
       " 'Series_Complete_18PlusPop_Pct': False,\n",
       " 'Series_Complete_65Plus': False,\n",
       " 'Series_Complete_65PlusPop_Pct': False,\n",
       " 'Series_Complete_Janssen': False,\n",
       " 'Series_Complete_Moderna': False,\n",
       " 'Series_Complete_Pfizer': False,\n",
       " 'Series_Complete_Novavax': False,\n",
       " 'Series_Complete_Unk_Manuf': False,\n",
       " 'Series_Complete_Janssen_5Plus': False,\n",
       " 'Series_Complete_Moderna_5Plus': False,\n",
       " 'Series_Complete_Pfizer_5Plus': False,\n",
       " 'Series_Complete_Unk_Manuf_5Plus': False,\n",
       " 'Series_Complete_Janssen_12Plus': False,\n",
       " 'Series_Complete_Moderna_12Plus': False,\n",
       " 'Series_Complete_Pfizer_12Plus': False,\n",
       " 'Series_Complete_Unk_Manuf_12Plus': False,\n",
       " 'Series_Complete_Janssen_18Plus': False,\n",
       " 'Series_Complete_Moderna_18Plus': False,\n",
       " 'Series_Complete_Pfizer_18Plus': False,\n",
       " 'Series_Complete_Unk_Manuf_18Plus': False,\n",
       " 'Series_Complete_Janssen_65Plus': False,\n",
       " 'Series_Complete_Moderna_65Plus': False,\n",
       " 'Series_Complete_Pfizer_65Plus': False,\n",
       " 'Series_Complete_Unk_Manuf_65Plus': False,\n",
       " 'Additional_Doses': False,\n",
       " 'Additional_Doses_Vax_Pct': False,\n",
       " 'Additional_Doses_5Plus': False,\n",
       " 'Additional_Doses_5Plus_Vax_Pct': False,\n",
       " 'Additional_Doses_12Plus': False,\n",
       " 'Additional_Doses_12Plus_Vax_Pct': False,\n",
       " 'Additional_Doses_18Plus': False,\n",
       " 'Additional_Doses_18Plus_Vax_Pct': False,\n",
       " 'Additional_Doses_50Plus': False,\n",
       " 'Additional_Doses_50Plus_Vax_Pct': False,\n",
       " 'Additional_Doses_65Plus': False,\n",
       " 'Additional_Doses_65Plus_Vax_Pct': False,\n",
       " 'Additional_Doses_Moderna': False,\n",
       " 'Additional_Doses_Pfizer': False,\n",
       " 'Additional_Doses_Janssen': False,\n",
       " 'Additional_Doses_Unk_Manuf': False,\n",
       " 'Second_Booster': False,\n",
       " 'Second_Booster_50Plus': False,\n",
       " 'Second_Booster_50Plus_Vax_Pct': False,\n",
       " 'Second_Booster_65Plus': False,\n",
       " 'Second_Booster_65Plus_Vax_Pct': False,\n",
       " 'Second_Booster_Janssen': False,\n",
       " 'Second_Booster_Moderna': False,\n",
       " 'Second_Booster_Pfizer': False,\n",
       " 'Second_Booster_Unk_Manuf': False,\n",
       " 'Administered_Bivalent': False,\n",
       " 'Admin_Bivalent_PFR': False,\n",
       " 'Admin_Bivalent_MOD': False,\n",
       " 'Dist_Bivalent_PFR': False,\n",
       " 'Dist_Bivalent_MOD': False,\n",
       " 'Bivalent_Booster_5Plus': False,\n",
       " 'Bivalent_Booster_5Plus_Pop_Pct': False,\n",
       " 'Bivalent_Booster_12Plus': False,\n",
       " 'Bivalent_Booster_12Plus_Pop_Pct': False,\n",
       " 'Bivalent_Booster_18Plus': False,\n",
       " 'Bivalent_Booster_18Plus_Pop_Pct': False,\n",
       " 'Bivalent_Booster_65Plus': False,\n",
       " 'Bivalent_Booster_65Plus_Pop_Pct': False,\n",
       " 'year': True,\n",
       " 'month': False,\n",
       " 'covid19_deaths': False,\n",
       " 'region_y_East': True,\n",
       " 'region_y_Midwest': True,\n",
       " 'region_y_PR': True,\n",
       " 'region_y_South': True,\n",
       " 'region_y_West': True,\n",
       " 'season_fall': True,\n",
       " 'season_spring': True,\n",
       " 'season_summer': True,\n",
       " 'season_winter': True}"
      ]
     },
     "execution_count": 36,
     "metadata": {},
     "output_type": "execute_result"
    }
   ],
   "source": [
    "series_dict"
   ]
  },
  {
   "cell_type": "code",
   "execution_count": 34,
   "id": "7078abcc",
   "metadata": {},
   "outputs": [
    {
     "name": "stdout",
     "output_type": "stream",
     "text": [
      "year\n",
      "region_y_East\n",
      "region_y_Midwest\n",
      "region_y_PR\n",
      "region_y_South\n",
      "region_y_West\n",
      "season_fall\n",
      "season_spring\n",
      "season_summer\n",
      "season_winter\n"
     ]
    }
   ],
   "source": [
    "for k,v in series_list.items():\n",
    "    if v == True:\n",
    "        print(k)"
   ]
  },
  {
   "cell_type": "markdown",
   "id": "d659740f",
   "metadata": {},
   "source": [
    "It would make sense that these are relatively constant so we will proceed without dropping anything"
   ]
  },
  {
   "cell_type": "markdown",
   "id": "8e554d0a",
   "metadata": {},
   "source": [
    "#### Remove redundant features"
   ]
  },
  {
   "cell_type": "code",
   "execution_count": 45,
   "id": "a70b3349",
   "metadata": {},
   "outputs": [],
   "source": [
    "#remove redundant features\n",
    "corr_matrix = data.corr().abs()\n",
    "upper_triangle = np.triu(np.ones(corr_matrix.shape), k=1).astype(bool)\n",
    "correlated_columns = [column for column in corr_matrix.columns if any(corr_matrix[column] > 0.25)]"
   ]
  },
  {
   "cell_type": "code",
   "execution_count": 46,
   "id": "86dd8d84",
   "metadata": {},
   "outputs": [
    {
     "data": {
      "text/plain": [
       "['Unnamed: 0',\n",
       " 'MMWR_week',\n",
       " 'Distributed',\n",
       " 'Distributed_Janssen',\n",
       " 'Distributed_Moderna',\n",
       " 'Distributed_Pfizer',\n",
       " 'Distributed_Novavax',\n",
       " 'Distributed_Unk_Manuf',\n",
       " 'Dist_Per_100K',\n",
       " 'Distributed_Per_100k_5Plus',\n",
       " 'Distributed_Per_100k_12Plus',\n",
       " 'Distributed_Per_100k_18Plus',\n",
       " 'Distributed_Per_100k_65Plus',\n",
       " 'Administered',\n",
       " 'Administered_5Plus',\n",
       " 'Administered_12Plus',\n",
       " 'Administered_18Plus',\n",
       " 'Administered_65Plus',\n",
       " 'Administered_Janssen',\n",
       " 'Administered_Moderna',\n",
       " 'Administered_Pfizer',\n",
       " 'Administered_Novavax',\n",
       " 'Administered_Unk_Manuf',\n",
       " 'Admin_Per_100K',\n",
       " 'Admin_Per_100k_5Plus',\n",
       " 'Admin_Per_100k_12Plus',\n",
       " 'Admin_Per_100k_18Plus',\n",
       " 'Admin_Per_100k_65Plus',\n",
       " 'Recip_Administered',\n",
       " 'Administered_Dose1_Recip',\n",
       " 'Administered_Dose1_Pop_Pct',\n",
       " 'Administered_Dose1_Recip_5Plus',\n",
       " 'Administered_Dose1_Recip_5PlusPop_Pct',\n",
       " 'Administered_Dose1_Recip_12Plus',\n",
       " 'Administered_Dose1_Recip_12PlusPop_Pct',\n",
       " 'Administered_Dose1_Recip_18Plus',\n",
       " 'Administered_Dose1_Recip_18PlusPop_Pct',\n",
       " 'Administered_Dose1_Recip_65Plus',\n",
       " 'Administered_Dose1_Recip_65PlusPop_Pct',\n",
       " 'Series_Complete_Yes',\n",
       " 'Series_Complete_Pop_Pct',\n",
       " 'Series_Complete_5Plus',\n",
       " 'Series_Complete_5PlusPop_Pct',\n",
       " 'Series_Complete_12Plus',\n",
       " 'Series_Complete_12PlusPop_Pct',\n",
       " 'Series_Complete_18Plus',\n",
       " 'Series_Complete_18PlusPop_Pct',\n",
       " 'Series_Complete_65Plus',\n",
       " 'Series_Complete_65PlusPop_Pct',\n",
       " 'Series_Complete_Janssen',\n",
       " 'Series_Complete_Moderna',\n",
       " 'Series_Complete_Pfizer',\n",
       " 'Series_Complete_Novavax',\n",
       " 'Series_Complete_Unk_Manuf',\n",
       " 'Series_Complete_Janssen_5Plus',\n",
       " 'Series_Complete_Moderna_5Plus',\n",
       " 'Series_Complete_Pfizer_5Plus',\n",
       " 'Series_Complete_Unk_Manuf_5Plus',\n",
       " 'Series_Complete_Janssen_12Plus',\n",
       " 'Series_Complete_Moderna_12Plus',\n",
       " 'Series_Complete_Pfizer_12Plus',\n",
       " 'Series_Complete_Unk_Manuf_12Plus',\n",
       " 'Series_Complete_Janssen_18Plus',\n",
       " 'Series_Complete_Moderna_18Plus',\n",
       " 'Series_Complete_Pfizer_18Plus',\n",
       " 'Series_Complete_Unk_Manuf_18Plus',\n",
       " 'Series_Complete_Janssen_65Plus',\n",
       " 'Series_Complete_Moderna_65Plus',\n",
       " 'Series_Complete_Pfizer_65Plus',\n",
       " 'Series_Complete_Unk_Manuf_65Plus',\n",
       " 'Additional_Doses',\n",
       " 'Additional_Doses_Vax_Pct',\n",
       " 'Additional_Doses_5Plus',\n",
       " 'Additional_Doses_5Plus_Vax_Pct',\n",
       " 'Additional_Doses_12Plus',\n",
       " 'Additional_Doses_12Plus_Vax_Pct',\n",
       " 'Additional_Doses_18Plus',\n",
       " 'Additional_Doses_18Plus_Vax_Pct',\n",
       " 'Additional_Doses_50Plus',\n",
       " 'Additional_Doses_50Plus_Vax_Pct',\n",
       " 'Additional_Doses_65Plus',\n",
       " 'Additional_Doses_65Plus_Vax_Pct',\n",
       " 'Additional_Doses_Moderna',\n",
       " 'Additional_Doses_Pfizer',\n",
       " 'Additional_Doses_Janssen',\n",
       " 'Additional_Doses_Unk_Manuf',\n",
       " 'Second_Booster_50Plus',\n",
       " 'Second_Booster_50Plus_Vax_Pct',\n",
       " 'Second_Booster_65Plus',\n",
       " 'Second_Booster_65Plus_Vax_Pct',\n",
       " 'Second_Booster_Janssen',\n",
       " 'Second_Booster_Moderna',\n",
       " 'Second_Booster_Pfizer',\n",
       " 'Second_Booster_Unk_Manuf',\n",
       " 'Administered_Bivalent',\n",
       " 'Admin_Bivalent_PFR',\n",
       " 'Admin_Bivalent_MOD',\n",
       " 'Dist_Bivalent_PFR',\n",
       " 'Dist_Bivalent_MOD',\n",
       " 'Bivalent_Booster_5Plus',\n",
       " 'Bivalent_Booster_5Plus_Pop_Pct',\n",
       " 'Bivalent_Booster_12Plus',\n",
       " 'Bivalent_Booster_12Plus_Pop_Pct',\n",
       " 'Bivalent_Booster_18Plus',\n",
       " 'Bivalent_Booster_18Plus_Pop_Pct',\n",
       " 'Bivalent_Booster_65Plus',\n",
       " 'Bivalent_Booster_65Plus_Pop_Pct',\n",
       " 'year',\n",
       " 'month',\n",
       " 'covid19_deaths',\n",
       " 'region_y_East',\n",
       " 'region_y_Midwest',\n",
       " 'region_y_PR',\n",
       " 'region_y_South',\n",
       " 'region_y_West',\n",
       " 'season_fall',\n",
       " 'season_spring',\n",
       " 'season_summer',\n",
       " 'season_winter']"
      ]
     },
     "execution_count": 46,
     "metadata": {},
     "output_type": "execute_result"
    }
   ],
   "source": [
    "correlated_columns"
   ]
  },
  {
   "cell_type": "markdown",
   "id": "7ed6cc46",
   "metadata": {},
   "source": [
    "Our columns are pretty correlated"
   ]
  },
  {
   "cell_type": "markdown",
   "id": "63bd51fd",
   "metadata": {},
   "source": [
    "#### Print out correlation matrix"
   ]
  },
  {
   "cell_type": "code",
   "execution_count": 47,
   "id": "34ec5c8e",
   "metadata": {},
   "outputs": [
    {
     "name": "stdout",
     "output_type": "stream",
     "text": [
      "Correlation Matrix:\n",
      "                     Unnamed: 0  MMWR_week  Distributed  Distributed_Janssen  \\\n",
      "Unnamed: 0             1.000000   0.094259     0.417619             0.360805   \n",
      "MMWR_week              0.094259   1.000000     0.040339             0.069973   \n",
      "Distributed            0.417619   0.040339     1.000000             0.977400   \n",
      "Distributed_Janssen    0.360805   0.069973     0.977400             1.000000   \n",
      "Distributed_Moderna    0.412786   0.060121     0.995835             0.985062   \n",
      "...                         ...        ...          ...                  ...   \n",
      "region_y_West          0.012697   0.018105     0.009709             0.014864   \n",
      "season_fall            0.111601   0.582533     0.024185             0.031559   \n",
      "season_spring          0.052176   0.342632     0.064048             0.052631   \n",
      "season_summer          0.006252   0.157788     0.024319             0.061855   \n",
      "season_winter          0.142062   0.288819     0.105031             0.131593   \n",
      "\n",
      "                     Distributed_Moderna  Distributed_Pfizer  \\\n",
      "Unnamed: 0                      0.412786            0.437437   \n",
      "MMWR_week                       0.060121            0.043088   \n",
      "Distributed                     0.995835            0.997701   \n",
      "Distributed_Janssen             0.985062            0.971211   \n",
      "Distributed_Moderna             1.000000            0.992863   \n",
      "...                                  ...                 ...   \n",
      "region_y_West                   0.014279            0.006217   \n",
      "season_fall                     0.035242            0.025649   \n",
      "season_spring                   0.069419            0.061863   \n",
      "season_summer                   0.045544            0.017595   \n",
      "season_winter                   0.137726            0.098432   \n",
      "\n",
      "                     Distributed_Novavax  Distributed_Unk_Manuf  \\\n",
      "Unnamed: 0                      0.292736               0.015106   \n",
      "MMWR_week                       0.137142               0.092612   \n",
      "Distributed                     0.845071               0.068424   \n",
      "Distributed_Janssen             0.812413               0.077902   \n",
      "Distributed_Moderna             0.836779               0.071681   \n",
      "...                                  ...                    ...   \n",
      "region_y_West                   0.098221               0.003297   \n",
      "season_fall                     0.071491               0.131090   \n",
      "season_spring                   0.224766               0.044343   \n",
      "season_summer                   0.216377               0.031900   \n",
      "season_winter                   0.035519               0.040826   \n",
      "\n",
      "                     Dist_Per_100K  Distributed_Per_100k_5Plus  ...  \\\n",
      "Unnamed: 0                0.960575                    0.890270  ...   \n",
      "MMWR_week                 0.122611                    0.069537  ...   \n",
      "Distributed               0.444823                    0.387918  ...   \n",
      "Distributed_Janssen       0.398675                    0.315556  ...   \n",
      "Distributed_Moderna       0.441977                    0.367985  ...   \n",
      "...                            ...                         ...  ...   \n",
      "region_y_West             0.023304                    0.033674  ...   \n",
      "season_fall               0.128652                    0.078833  ...   \n",
      "season_spring             0.049138                    0.093011  ...   \n",
      "season_summer             0.004609                    0.191302  ...   \n",
      "season_winter             0.162751                    0.134393  ...   \n",
      "\n",
      "                     covid19_deaths  region_y_East  region_y_Midwest  \\\n",
      "Unnamed: 0                 0.168967       0.009085          0.002177   \n",
      "MMWR_week                  0.045031       0.003601          0.001138   \n",
      "Distributed                0.209108       0.109895          0.085049   \n",
      "Distributed_Janssen        0.227577       0.110450          0.088648   \n",
      "Distributed_Moderna        0.198658       0.108122          0.088532   \n",
      "...                             ...            ...               ...   \n",
      "region_y_West              0.028365       0.253166          0.298733   \n",
      "season_fall                0.026296       0.008817          0.002592   \n",
      "season_spring              0.210485       0.002263          0.003079   \n",
      "season_summer              0.101769       0.023882          0.007569   \n",
      "season_winter              0.273261       0.014865          0.001098   \n",
      "\n",
      "                     region_y_PR  region_y_South  region_y_West  season_fall  \\\n",
      "Unnamed: 0              0.002148        0.001389       0.012697     0.111601   \n",
      "MMWR_week               0.015308        0.015678       0.018105     0.582533   \n",
      "Distributed             0.055961        0.011102       0.009709     0.024185   \n",
      "Distributed_Janssen     0.068300        0.021811       0.014864     0.031559   \n",
      "Distributed_Moderna     0.058319        0.020308       0.014279     0.035242   \n",
      "...                          ...             ...            ...          ...   \n",
      "region_y_West           0.072754        0.395009       1.000000     0.019805   \n",
      "season_fall             0.008575        0.024525       0.019805     1.000000   \n",
      "season_spring           0.014494        0.030172       0.039701     0.326946   \n",
      "season_summer           0.013729        0.010573       0.021659     0.235506   \n",
      "season_winter           0.004445        0.018060       0.004416     0.329327   \n",
      "\n",
      "                     season_spring  season_summer  season_winter  \n",
      "Unnamed: 0                0.052176       0.006252       0.142062  \n",
      "MMWR_week                 0.342632       0.157788       0.288819  \n",
      "Distributed               0.064048       0.024319       0.105031  \n",
      "Distributed_Janssen       0.052631       0.061855       0.131593  \n",
      "Distributed_Moderna       0.069419       0.045544       0.137726  \n",
      "...                            ...            ...            ...  \n",
      "region_y_West             0.039701       0.021659       0.004416  \n",
      "season_fall               0.326946       0.235506       0.329327  \n",
      "season_spring             1.000000       0.320326       0.447938  \n",
      "season_summer             0.320326       1.000000       0.322659  \n",
      "season_winter             0.447938       0.322659       1.000000  \n",
      "\n",
      "[120 rows x 120 columns]\n"
     ]
    }
   ],
   "source": [
    "print(\"Correlation Matrix:\")\n",
    "print(corr_matrix)"
   ]
  },
  {
   "cell_type": "code",
   "execution_count": 48,
   "id": "a2e6e06a",
   "metadata": {},
   "outputs": [
    {
     "name": "stdout",
     "output_type": "stream",
     "text": [
      "Correlation Matrix with Target Variable:\n",
      "Unnamed: 0             0.168967\n",
      "MMWR_week             -0.045031\n",
      "Distributed            0.209108\n",
      "Distributed_Janssen    0.227577\n",
      "Distributed_Moderna    0.198658\n",
      "                         ...   \n",
      "region_y_West         -0.028365\n",
      "season_fall            0.026296\n",
      "season_spring         -0.210485\n",
      "season_summer         -0.101769\n",
      "season_winter          0.273261\n",
      "Name: covid19_deaths, Length: 120, dtype: float64\n"
     ]
    }
   ],
   "source": [
    "correlation_matrix = data.corr()['covid19_deaths']\n",
    "print(\"Correlation Matrix with Target Variable:\")\n",
    "print(correlation_matrix)"
   ]
  },
  {
   "cell_type": "code",
   "execution_count": 49,
   "id": "53419818",
   "metadata": {},
   "outputs": [
    {
     "data": {
      "text/plain": [
       "<AxesSubplot:>"
      ]
     },
     "execution_count": 49,
     "metadata": {},
     "output_type": "execute_result"
    },
    {
     "data": {
      "image/png": "[encoded data removed]",
      "text/plain": [
       "<Figure size 432x288 with 2 Axes>"
      ]
     },
     "metadata": {
      "needs_background": "light"
     },
     "output_type": "display_data"
    }
   ],
   "source": [
    "correlation_df = pd.DataFrame(correlation_matrix)\n",
    "sns.heatmap(correlation_df.transpose(), annot=True)"
   ]
  },
  {
   "cell_type": "markdown",
   "id": "c15df88c",
   "metadata": {},
   "source": [
    "#### Removing columns that have both a large number of missing values and low correlation w target variable"
   ]
  },
  {
   "cell_type": "code",
   "execution_count": 54,
   "id": "3722d5bc",
   "metadata": {},
   "outputs": [],
   "source": [
    "# Removing columns that have both a large number of missing \n",
    "# values and low correlation w target variable\n",
    "\n",
    "threshold_missing = 0.5\n",
    "threshold_corr = 0.2\n",
    "\n",
    "target_corr = data.corr()['covid19_deaths'].abs()\n",
    "missing_values = data.isnull().mean()"
   ]
  },
  {
   "cell_type": "code",
   "execution_count": 55,
   "id": "3534dd05",
   "metadata": {},
   "outputs": [
    {
     "data": {
      "text/plain": [
       "Unnamed: 0             0.168967\n",
       "MMWR_week              0.045031\n",
       "Distributed            0.209108\n",
       "Distributed_Janssen    0.227577\n",
       "Distributed_Moderna    0.198658\n",
       "                         ...   \n",
       "region_y_West          0.028365\n",
       "season_fall            0.026296\n",
       "season_spring          0.210485\n",
       "season_summer          0.101769\n",
       "season_winter          0.273261\n",
       "Name: covid19_deaths, Length: 120, dtype: float64"
      ]
     },
     "execution_count": 55,
     "metadata": {},
     "output_type": "execute_result"
    }
   ],
   "source": [
    "target_corr"
   ]
  },
  {
   "cell_type": "code",
   "execution_count": 56,
   "id": "f7597e4e",
   "metadata": {},
   "outputs": [
    {
     "data": {
      "text/plain": [
       "Unnamed: 0       0.0\n",
       "Date             0.0\n",
       "MMWR_week        0.0\n",
       "Location         0.0\n",
       "Distributed      0.0\n",
       "                ... \n",
       "region_y_West    0.0\n",
       "season_fall      0.0\n",
       "season_spring    0.0\n",
       "season_summer    0.0\n",
       "season_winter    0.0\n",
       "Length: 122, dtype: float64"
      ]
     },
     "execution_count": 56,
     "metadata": {},
     "output_type": "execute_result"
    }
   ],
   "source": [
    "missing_values"
   ]
  },
  {
   "cell_type": "code",
   "execution_count": 57,
   "id": "ed09a9a1",
   "metadata": {},
   "outputs": [
    {
     "data": {
      "text/plain": [
       "{'Additional_Doses_5Plus_Vax_Pct',\n",
       " 'Bivalent_Booster_12Plus_Pop_Pct',\n",
       " 'Bivalent_Booster_18Plus_Pop_Pct',\n",
       " 'Bivalent_Booster_5Plus_Pop_Pct',\n",
       " 'Bivalent_Booster_65Plus_Pop_Pct',\n",
       " 'Second_Booster_50Plus_Vax_Pct',\n",
       " 'Second_Booster_65Plus_Vax_Pct',\n",
       " 'Series_Complete_Unk_Manuf_5Plus'}"
      ]
     },
     "execution_count": 57,
     "metadata": {},
     "output_type": "execute_result"
    }
   ],
   "source": [
    "to_drop_missing = data.columns[missing_values > threshold_missing]\n",
    "to_drop_corr = target_corr[target_corr < threshold_corr].index\n",
    "\n",
    "to_drop_combined = set(to_drop_missing).intersection(to_drop_corr)\n",
    "to_drop_combined"
   ]
  },
  {
   "cell_type": "code",
   "execution_count": null,
   "id": "bf4fdd68",
   "metadata": {},
   "outputs": [],
   "source": []
  }
 ],
 "metadata": {
  "kernelspec": {
   "display_name": "Python 3 (ipykernel)",
   "language": "python",
   "name": "python3"
  },
  "language_info": {
   "codemirror_mode": {
    "name": "ipython",
    "version": 3
   },
   "file_extension": ".py",
   "mimetype": "text/x-python",
   "name": "python",
   "nbconvert_exporter": "python",
   "pygments_lexer": "ipython3",
   "version": "3.9.12"
  }
 },
 "nbformat": 4,
 "nbformat_minor": 5
}
