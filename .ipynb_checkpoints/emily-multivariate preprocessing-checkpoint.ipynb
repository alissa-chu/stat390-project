{
 "cells": [
  {
   "cell_type": "code",
   "execution_count": 1,
   "id": "d9812f3d",
   "metadata": {},
   "outputs": [],
   "source": [
    "import pandas as pd\n",
    "import numpy as np\n",
    "import statsmodels.formula.api as smf\n",
    "import statsmodels.api as sm\n",
    "import seaborn as sns\n",
    "import matplotlib.pyplot as plt\n",
    "from patsy import dmatrix\n",
    "from sklearn.metrics import mean_squared_error\n",
    "from pyearth import Earth\n",
    "from sklearn.linear_model import LinearRegression\n",
    "from sklearn.linear_model import LogisticRegression, LinearRegression\n",
    "from sklearn.model_selection import train_test_split, cross_val_predict, cross_val_score\n",
    "from sklearn.preprocessing import StandardScaler\n",
    "from sklearn.metrics import accuracy_score, mean_absolute_error, mean_squared_error, r2_score, \\\n",
    "roc_curve, auc, precision_score, recall_score, confusion_matrix\n",
    "from sklearn.model_selection import KFold\n",
    "from sklearn.tree import DecisionTreeRegressor,DecisionTreeClassifier\n",
    "from sklearn.model_selection import GridSearchCV, ParameterGrid, RandomizedSearchCV\n",
    "from sklearn.ensemble import BaggingRegressor,BaggingClassifier,RandomForestRegressor,RandomForestClassifier\n",
    "from sklearn.ensemble import VotingRegressor, StackingRegressor"
   ]
  },
  {
   "cell_type": "code",
   "execution_count": 3,
   "id": "8551644a",
   "metadata": {},
   "outputs": [
    {
     "name": "stderr",
     "output_type": "stream",
     "text": [
      "/var/folders/_r/zhgqwmg93t93tgtk01b4xvtc0000gn/T/ipykernel_16651/2997522077.py:1: DtypeWarning: Columns (6) have mixed types. Specify dtype option on import or set low_memory=False.\n",
      "  data = pd.read_csv('data/merged_cleaned_processed.csv')\n"
     ]
    }
   ],
   "source": [
    "data = pd.read_csv('data/merged_cleaned_processed.csv')"
   ]
  },
  {
   "cell_type": "code",
   "execution_count": 4,
   "id": "de982e88",
   "metadata": {},
   "outputs": [],
   "source": [
    "# suppressing warnings\n",
    "import warnings\n",
    "warnings.filterwarnings(\"ignore\")"
   ]
  },
  {
   "cell_type": "markdown",
   "id": "eb4687f0",
   "metadata": {},
   "source": [
    "# data preprocessing"
   ]
  },
  {
   "cell_type": "markdown",
   "id": "5b877266",
   "metadata": {},
   "source": [
    "FEATURE REDUCTION\n",
    "- Remove constant features\n",
    "- Remove quasi-constant features\n",
    "- Remove redundant features\n",
    "- Print out correlation matrix\n",
    "- Removing columns that have both a large number of missing values and low correlation w target variable\n"
   ]
  },
  {
   "cell_type": "markdown",
   "id": "42a4ea82",
   "metadata": {},
   "source": [
    "##### remove constant features"
   ]
  },
  {
   "cell_type": "code",
   "execution_count": 5,
   "id": "f959cfe2",
   "metadata": {},
   "outputs": [
    {
     "data": {
      "text/html": [
       "<div>\n",
       "<style scoped>\n",
       "    .dataframe tbody tr th:only-of-type {\n",
       "        vertical-align: middle;\n",
       "    }\n",
       "\n",
       "    .dataframe tbody tr th {\n",
       "        vertical-align: top;\n",
       "    }\n",
       "\n",
       "    .dataframe thead th {\n",
       "        text-align: right;\n",
       "    }\n",
       "</style>\n",
       "<table border=\"1\" class=\"dataframe\">\n",
       "  <thead>\n",
       "    <tr style=\"text-align: right;\">\n",
       "      <th></th>\n",
       "      <th>Unnamed: 0</th>\n",
       "      <th>date.x</th>\n",
       "      <th>location</th>\n",
       "      <th>year</th>\n",
       "      <th>mmwr_week</th>\n",
       "      <th>covid_19_deaths</th>\n",
       "      <th>date.y</th>\n",
       "      <th>distributed</th>\n",
       "      <th>distributed_janssen</th>\n",
       "      <th>distributed_moderna</th>\n",
       "      <th>...</th>\n",
       "      <th>month</th>\n",
       "      <th>region_East</th>\n",
       "      <th>region_Midwest</th>\n",
       "      <th>region_Puerto Rico</th>\n",
       "      <th>region_South</th>\n",
       "      <th>region_West</th>\n",
       "      <th>season_Fall</th>\n",
       "      <th>season_Spring</th>\n",
       "      <th>season_Summer</th>\n",
       "      <th>season_Winter</th>\n",
       "    </tr>\n",
       "  </thead>\n",
       "  <tbody>\n",
       "    <tr>\n",
       "      <th>0</th>\n",
       "      <td>0</td>\n",
       "      <td>2020-01-04</td>\n",
       "      <td>AL</td>\n",
       "      <td>2020</td>\n",
       "      <td>1</td>\n",
       "      <td>0.0</td>\n",
       "      <td>NaN</td>\n",
       "      <td>0.0</td>\n",
       "      <td>0.0</td>\n",
       "      <td>0.0</td>\n",
       "      <td>...</td>\n",
       "      <td>1</td>\n",
       "      <td>0</td>\n",
       "      <td>0</td>\n",
       "      <td>0</td>\n",
       "      <td>1</td>\n",
       "      <td>0</td>\n",
       "      <td>0</td>\n",
       "      <td>0</td>\n",
       "      <td>0</td>\n",
       "      <td>1</td>\n",
       "    </tr>\n",
       "    <tr>\n",
       "      <th>1</th>\n",
       "      <td>3780</td>\n",
       "      <td>2020-01-04</td>\n",
       "      <td>LA</td>\n",
       "      <td>2020</td>\n",
       "      <td>1</td>\n",
       "      <td>0.0</td>\n",
       "      <td>NaN</td>\n",
       "      <td>0.0</td>\n",
       "      <td>0.0</td>\n",
       "      <td>0.0</td>\n",
       "      <td>...</td>\n",
       "      <td>1</td>\n",
       "      <td>0</td>\n",
       "      <td>0</td>\n",
       "      <td>0</td>\n",
       "      <td>1</td>\n",
       "      <td>0</td>\n",
       "      <td>0</td>\n",
       "      <td>0</td>\n",
       "      <td>0</td>\n",
       "      <td>1</td>\n",
       "    </tr>\n",
       "    <tr>\n",
       "      <th>2</th>\n",
       "      <td>9660</td>\n",
       "      <td>2020-01-04</td>\n",
       "      <td>VA</td>\n",
       "      <td>2020</td>\n",
       "      <td>1</td>\n",
       "      <td>0.0</td>\n",
       "      <td>NaN</td>\n",
       "      <td>0.0</td>\n",
       "      <td>0.0</td>\n",
       "      <td>0.0</td>\n",
       "      <td>...</td>\n",
       "      <td>1</td>\n",
       "      <td>0</td>\n",
       "      <td>0</td>\n",
       "      <td>0</td>\n",
       "      <td>1</td>\n",
       "      <td>0</td>\n",
       "      <td>0</td>\n",
       "      <td>0</td>\n",
       "      <td>0</td>\n",
       "      <td>1</td>\n",
       "    </tr>\n",
       "    <tr>\n",
       "      <th>3</th>\n",
       "      <td>3570</td>\n",
       "      <td>2020-01-04</td>\n",
       "      <td>KY</td>\n",
       "      <td>2020</td>\n",
       "      <td>1</td>\n",
       "      <td>0.0</td>\n",
       "      <td>NaN</td>\n",
       "      <td>0.0</td>\n",
       "      <td>0.0</td>\n",
       "      <td>0.0</td>\n",
       "      <td>...</td>\n",
       "      <td>1</td>\n",
       "      <td>0</td>\n",
       "      <td>0</td>\n",
       "      <td>0</td>\n",
       "      <td>1</td>\n",
       "      <td>0</td>\n",
       "      <td>0</td>\n",
       "      <td>0</td>\n",
       "      <td>0</td>\n",
       "      <td>1</td>\n",
       "    </tr>\n",
       "    <tr>\n",
       "      <th>4</th>\n",
       "      <td>3360</td>\n",
       "      <td>2020-01-04</td>\n",
       "      <td>KS</td>\n",
       "      <td>2020</td>\n",
       "      <td>1</td>\n",
       "      <td>0.0</td>\n",
       "      <td>NaN</td>\n",
       "      <td>0.0</td>\n",
       "      <td>0.0</td>\n",
       "      <td>0.0</td>\n",
       "      <td>...</td>\n",
       "      <td>1</td>\n",
       "      <td>0</td>\n",
       "      <td>1</td>\n",
       "      <td>0</td>\n",
       "      <td>0</td>\n",
       "      <td>0</td>\n",
       "      <td>0</td>\n",
       "      <td>0</td>\n",
       "      <td>0</td>\n",
       "      <td>1</td>\n",
       "    </tr>\n",
       "  </tbody>\n",
       "</table>\n",
       "<p>5 rows × 123 columns</p>\n",
       "</div>"
      ],
      "text/plain": [
       "   Unnamed: 0      date.x location  year  mmwr_week  covid_19_deaths date.y  \\\n",
       "0           0  2020-01-04       AL  2020          1              0.0    NaN   \n",
       "1        3780  2020-01-04       LA  2020          1              0.0    NaN   \n",
       "2        9660  2020-01-04       VA  2020          1              0.0    NaN   \n",
       "3        3570  2020-01-04       KY  2020          1              0.0    NaN   \n",
       "4        3360  2020-01-04       KS  2020          1              0.0    NaN   \n",
       "\n",
       "   distributed  distributed_janssen  distributed_moderna  ...  month  \\\n",
       "0          0.0                  0.0                  0.0  ...      1   \n",
       "1          0.0                  0.0                  0.0  ...      1   \n",
       "2          0.0                  0.0                  0.0  ...      1   \n",
       "3          0.0                  0.0                  0.0  ...      1   \n",
       "4          0.0                  0.0                  0.0  ...      1   \n",
       "\n",
       "   region_East  region_Midwest  region_Puerto Rico  region_South  region_West  \\\n",
       "0            0               0                   0             1            0   \n",
       "1            0               0                   0             1            0   \n",
       "2            0               0                   0             1            0   \n",
       "3            0               0                   0             1            0   \n",
       "4            0               1                   0             0            0   \n",
       "\n",
       "   season_Fall  season_Spring  season_Summer  season_Winter  \n",
       "0            0              0              0              1  \n",
       "1            0              0              0              1  \n",
       "2            0              0              0              1  \n",
       "3            0              0              0              1  \n",
       "4            0              0              0              1  \n",
       "\n",
       "[5 rows x 123 columns]"
      ]
     },
     "execution_count": 5,
     "metadata": {},
     "output_type": "execute_result"
    }
   ],
   "source": [
    "data.head()"
   ]
  },
  {
   "cell_type": "code",
   "execution_count": 6,
   "id": "1c7a0d67",
   "metadata": {},
   "outputs": [
    {
     "name": "stdout",
     "output_type": "stream",
     "text": [
      "Index([], dtype='object')\n"
     ]
    }
   ],
   "source": [
    "#### Remove constant features\n",
    "constant_features = data.columns[data.nunique() == 1]\n",
    "print(constant_features)"
   ]
  },
  {
   "cell_type": "markdown",
   "id": "b7f46d6b",
   "metadata": {},
   "source": [
    "No constant features"
   ]
  },
  {
   "cell_type": "markdown",
   "id": "4bc2c799",
   "metadata": {},
   "source": [
    "#### Remove quasi-constant features"
   ]
  },
  {
   "cell_type": "code",
   "execution_count": 7,
   "id": "687c2a01",
   "metadata": {},
   "outputs": [],
   "source": [
    "#remove quasi-constant features\n",
    "threshold = 0.95\n",
    "quasi_constant = (data.var() <= threshold)"
   ]
  },
  {
   "cell_type": "code",
   "execution_count": 8,
   "id": "f19eab62",
   "metadata": {},
   "outputs": [
    {
     "data": {
      "text/plain": [
       "Unnamed: 0         False\n",
       "year               False\n",
       "mmwr_week          False\n",
       "covid_19_deaths    False\n",
       "distributed        False\n",
       "                   ...  \n",
       "region_West         True\n",
       "season_Fall         True\n",
       "season_Spring       True\n",
       "season_Summer       True\n",
       "season_Winter       True\n",
       "Length: 120, dtype: bool"
      ]
     },
     "execution_count": 8,
     "metadata": {},
     "output_type": "execute_result"
    }
   ],
   "source": [
    "quasi_constant"
   ]
  },
  {
   "cell_type": "code",
   "execution_count": 9,
   "id": "c6f58484",
   "metadata": {},
   "outputs": [],
   "source": [
    "series_dict = dict(zip(quasi_constant.index, quasi_constant.values))"
   ]
  },
  {
   "cell_type": "code",
   "execution_count": 10,
   "id": "042afd0d",
   "metadata": {},
   "outputs": [
    {
     "data": {
      "text/plain": [
       "{'Unnamed: 0': False,\n",
       " 'year': False,\n",
       " 'mmwr_week': False,\n",
       " 'covid_19_deaths': False,\n",
       " 'distributed': False,\n",
       " 'distributed_janssen': False,\n",
       " 'distributed_moderna': False,\n",
       " 'distributed_pfizer': False,\n",
       " 'distributed_novavax': False,\n",
       " 'distributed_unk_manuf': False,\n",
       " 'dist_per_100k': False,\n",
       " 'distributed_per_100k_5plus': False,\n",
       " 'distributed_per_100k_12plus': False,\n",
       " 'distributed_per_100k_18plus': False,\n",
       " 'distributed_per_100k_65plus': False,\n",
       " 'administered': False,\n",
       " 'administered_5plus': False,\n",
       " 'administered_12plus': False,\n",
       " 'administered_18plus': False,\n",
       " 'administered_65plus': False,\n",
       " 'administered_janssen': False,\n",
       " 'administered_moderna': False,\n",
       " 'administered_pfizer': False,\n",
       " 'administered_novavax': False,\n",
       " 'administered_unk_manuf': False,\n",
       " 'admin_per_100k': False,\n",
       " 'admin_per_100k_5plus': False,\n",
       " 'admin_per_100k_12plus': False,\n",
       " 'admin_per_100k_18plus': False,\n",
       " 'admin_per_100k_65plus': False,\n",
       " 'recip_administered': False,\n",
       " 'administered_dose1_recip': False,\n",
       " 'administered_dose1_pop_pct': False,\n",
       " 'administered_dose1_recip_5plus': False,\n",
       " 'administered_dose1_recip_5plus_pop_pct': False,\n",
       " 'administered_dose1_recip_12plus': False,\n",
       " 'administered_dose1_recip_12plus_pop_pct': False,\n",
       " 'administered_dose1_recip_18plus': False,\n",
       " 'administered_dose1_recip_18plus_pop_pct': False,\n",
       " 'administered_dose1_recip_65plus': False,\n",
       " 'administered_dose1_recip_65plus_pop_pct': False,\n",
       " 'series_complete_yes': False,\n",
       " 'series_complete_pop_pct': False,\n",
       " 'series_complete_5plus': False,\n",
       " 'series_complete_5plus_pop_pct': False,\n",
       " 'series_complete_12plus': False,\n",
       " 'series_complete_12plus_pop_pct': False,\n",
       " 'series_complete_18plus': False,\n",
       " 'series_complete_18plus_pop_pct': False,\n",
       " 'series_complete_65plus': False,\n",
       " 'series_complete_65plus_pop_pct': False,\n",
       " 'series_complete_janssen': False,\n",
       " 'series_complete_moderna': False,\n",
       " 'series_complete_pfizer': False,\n",
       " 'series_complete_novavax': False,\n",
       " 'series_complete_unk_manuf': False,\n",
       " 'series_complete_janssen_5plus': False,\n",
       " 'series_complete_moderna_5plus': False,\n",
       " 'series_complete_pfizer_5plus': False,\n",
       " 'series_complete_unk_manuf_5plus': False,\n",
       " 'series_complete_janssen_12plus': False,\n",
       " 'series_complete_moderna_12plus': False,\n",
       " 'series_complete_pfizer_12plus': False,\n",
       " 'series_complete_unk_manuf_12plus': False,\n",
       " 'series_complete_janssen_18plus': False,\n",
       " 'series_complete_moderna_18plus': False,\n",
       " 'series_complete_pfizer_18plus': False,\n",
       " 'series_complete_unk_manuf_18plus': False,\n",
       " 'series_complete_janssen_65plus': False,\n",
       " 'series_complete_moderna_65plus': False,\n",
       " 'series_complete_pfizer_65plus': False,\n",
       " 'series_complete_unk_manuf_65plus': False,\n",
       " 'additional_doses': False,\n",
       " 'additional_doses_vax_pct': False,\n",
       " 'additional_doses_5plus': False,\n",
       " 'additional_doses_5plus_vax_pct': False,\n",
       " 'additional_doses_12plus': False,\n",
       " 'additional_doses_12plus_vax_pct': False,\n",
       " 'additional_doses_18plus': False,\n",
       " 'additional_doses_18plus_vax_pct': False,\n",
       " 'additional_doses_50plus': False,\n",
       " 'additional_doses_50plus_vax_pct': False,\n",
       " 'additional_doses_65plus': False,\n",
       " 'additional_doses_65plus_vax_pct': False,\n",
       " 'additional_doses_moderna': False,\n",
       " 'additional_doses_pfizer': False,\n",
       " 'additional_doses_janssen': False,\n",
       " 'additional_doses_unk_manuf': False,\n",
       " 'second_booster': False,\n",
       " 'second_booster_50plus': False,\n",
       " 'second_booster_50plus_vax_pct': False,\n",
       " 'second_booster_65plus': False,\n",
       " 'second_booster_65plus_vax_pct': False,\n",
       " 'second_booster_janssen': False,\n",
       " 'second_booster_moderna': False,\n",
       " 'second_booster_pfizer': False,\n",
       " 'second_booster_unk_manuf': False,\n",
       " 'administered_bivalent': False,\n",
       " 'admin_bivalent_pfr': False,\n",
       " 'admin_bivalent_mod': False,\n",
       " 'dist_bivalent_pfr': False,\n",
       " 'dist_bivalent_mod': False,\n",
       " 'bivalent_booster_5plus': False,\n",
       " 'bivalent_booster_5plus_pop_pct': False,\n",
       " 'bivalent_booster_12plus': False,\n",
       " 'bivalent_booster_12plus_pop_pct': False,\n",
       " 'bivalent_booster_18plus': False,\n",
       " 'bivalent_booster_18plus_pop_pct': False,\n",
       " 'bivalent_booster_65plus': False,\n",
       " 'bivalent_booster_65plus_pop_pct': False,\n",
       " 'month': False,\n",
       " 'region_East': True,\n",
       " 'region_Midwest': True,\n",
       " 'region_Puerto Rico': True,\n",
       " 'region_South': True,\n",
       " 'region_West': True,\n",
       " 'season_Fall': True,\n",
       " 'season_Spring': True,\n",
       " 'season_Summer': True,\n",
       " 'season_Winter': True}"
      ]
     },
     "execution_count": 10,
     "metadata": {},
     "output_type": "execute_result"
    }
   ],
   "source": [
    "series_dict"
   ]
  },
  {
   "cell_type": "code",
   "execution_count": 11,
   "id": "7078abcc",
   "metadata": {},
   "outputs": [
    {
     "name": "stdout",
     "output_type": "stream",
     "text": [
      "region_East\n",
      "region_Midwest\n",
      "region_Puerto Rico\n",
      "region_South\n",
      "region_West\n",
      "season_Fall\n",
      "season_Spring\n",
      "season_Summer\n",
      "season_Winter\n"
     ]
    }
   ],
   "source": [
    "for k,v in series_dict.items():\n",
    "    if v == True:\n",
    "        print(k)"
   ]
  },
  {
   "cell_type": "markdown",
   "id": "d659740f",
   "metadata": {},
   "source": [
    "It would make sense that these are relatively constant so we will proceed without dropping anything"
   ]
  },
  {
   "cell_type": "markdown",
   "id": "8e554d0a",
   "metadata": {},
   "source": [
    "#### Remove redundant features"
   ]
  },
  {
   "cell_type": "code",
   "execution_count": 12,
   "id": "a70b3349",
   "metadata": {},
   "outputs": [
    {
     "data": {
      "text/plain": [
       "['Unnamed: 0',\n",
       " 'year',\n",
       " 'mmwr_week',\n",
       " 'covid_19_deaths',\n",
       " 'distributed',\n",
       " 'distributed_janssen',\n",
       " 'distributed_moderna',\n",
       " 'distributed_pfizer',\n",
       " 'distributed_novavax',\n",
       " 'distributed_unk_manuf',\n",
       " 'dist_per_100k',\n",
       " 'distributed_per_100k_5plus',\n",
       " 'distributed_per_100k_12plus',\n",
       " 'distributed_per_100k_18plus',\n",
       " 'distributed_per_100k_65plus',\n",
       " 'administered',\n",
       " 'administered_5plus',\n",
       " 'administered_12plus',\n",
       " 'administered_18plus',\n",
       " 'administered_65plus',\n",
       " 'administered_janssen',\n",
       " 'administered_moderna',\n",
       " 'administered_pfizer',\n",
       " 'administered_novavax',\n",
       " 'administered_unk_manuf',\n",
       " 'admin_per_100k',\n",
       " 'admin_per_100k_5plus',\n",
       " 'admin_per_100k_12plus',\n",
       " 'admin_per_100k_18plus',\n",
       " 'admin_per_100k_65plus',\n",
       " 'recip_administered',\n",
       " 'administered_dose1_recip',\n",
       " 'administered_dose1_pop_pct',\n",
       " 'administered_dose1_recip_5plus',\n",
       " 'administered_dose1_recip_5plus_pop_pct',\n",
       " 'administered_dose1_recip_12plus',\n",
       " 'administered_dose1_recip_12plus_pop_pct',\n",
       " 'administered_dose1_recip_18plus',\n",
       " 'administered_dose1_recip_18plus_pop_pct',\n",
       " 'administered_dose1_recip_65plus',\n",
       " 'administered_dose1_recip_65plus_pop_pct',\n",
       " 'series_complete_yes',\n",
       " 'series_complete_pop_pct',\n",
       " 'series_complete_5plus',\n",
       " 'series_complete_5plus_pop_pct',\n",
       " 'series_complete_12plus',\n",
       " 'series_complete_12plus_pop_pct',\n",
       " 'series_complete_18plus',\n",
       " 'series_complete_18plus_pop_pct',\n",
       " 'series_complete_65plus',\n",
       " 'series_complete_65plus_pop_pct',\n",
       " 'series_complete_janssen',\n",
       " 'series_complete_moderna',\n",
       " 'series_complete_pfizer',\n",
       " 'series_complete_novavax',\n",
       " 'series_complete_unk_manuf',\n",
       " 'series_complete_janssen_5plus',\n",
       " 'series_complete_moderna_5plus',\n",
       " 'series_complete_pfizer_5plus',\n",
       " 'series_complete_unk_manuf_5plus',\n",
       " 'series_complete_janssen_12plus',\n",
       " 'series_complete_moderna_12plus',\n",
       " 'series_complete_pfizer_12plus',\n",
       " 'series_complete_unk_manuf_12plus',\n",
       " 'series_complete_janssen_18plus',\n",
       " 'series_complete_moderna_18plus',\n",
       " 'series_complete_pfizer_18plus',\n",
       " 'series_complete_unk_manuf_18plus',\n",
       " 'series_complete_janssen_65plus',\n",
       " 'series_complete_moderna_65plus',\n",
       " 'series_complete_pfizer_65plus',\n",
       " 'series_complete_unk_manuf_65plus',\n",
       " 'additional_doses',\n",
       " 'additional_doses_vax_pct',\n",
       " 'additional_doses_5plus',\n",
       " 'additional_doses_5plus_vax_pct',\n",
       " 'additional_doses_12plus',\n",
       " 'additional_doses_12plus_vax_pct',\n",
       " 'additional_doses_18plus',\n",
       " 'additional_doses_18plus_vax_pct',\n",
       " 'additional_doses_50plus',\n",
       " 'additional_doses_50plus_vax_pct',\n",
       " 'additional_doses_65plus',\n",
       " 'additional_doses_65plus_vax_pct',\n",
       " 'additional_doses_moderna',\n",
       " 'additional_doses_pfizer',\n",
       " 'additional_doses_janssen',\n",
       " 'additional_doses_unk_manuf',\n",
       " 'second_booster_50plus',\n",
       " 'second_booster_50plus_vax_pct',\n",
       " 'second_booster_65plus',\n",
       " 'second_booster_65plus_vax_pct',\n",
       " 'second_booster_janssen',\n",
       " 'second_booster_moderna',\n",
       " 'second_booster_pfizer',\n",
       " 'second_booster_unk_manuf',\n",
       " 'administered_bivalent',\n",
       " 'admin_bivalent_pfr',\n",
       " 'admin_bivalent_mod',\n",
       " 'dist_bivalent_pfr',\n",
       " 'dist_bivalent_mod',\n",
       " 'bivalent_booster_5plus',\n",
       " 'bivalent_booster_5plus_pop_pct',\n",
       " 'bivalent_booster_12plus',\n",
       " 'bivalent_booster_12plus_pop_pct',\n",
       " 'bivalent_booster_18plus',\n",
       " 'bivalent_booster_18plus_pop_pct',\n",
       " 'bivalent_booster_65plus',\n",
       " 'bivalent_booster_65plus_pop_pct',\n",
       " 'month',\n",
       " 'region_East',\n",
       " 'region_Midwest',\n",
       " 'region_Puerto Rico',\n",
       " 'region_South',\n",
       " 'region_West',\n",
       " 'season_Fall',\n",
       " 'season_Spring',\n",
       " 'season_Summer',\n",
       " 'season_Winter']"
      ]
     },
     "execution_count": 12,
     "metadata": {},
     "output_type": "execute_result"
    }
   ],
   "source": [
    "#remove redundant features\n",
    "correlated_columns = data.corr().abs().columns[data.corr().abs().gt(0.25).any()]\n",
    "correlated_columns.to_list()"
   ]
  },
  {
   "cell_type": "markdown",
   "id": "7ed6cc46",
   "metadata": {},
   "source": [
    "Our columns are pretty correlated"
   ]
  },
  {
   "cell_type": "markdown",
   "id": "63bd51fd",
   "metadata": {},
   "source": [
    "#### Print out correlation matrix"
   ]
  },
  {
   "cell_type": "code",
   "execution_count": 14,
   "id": "34ec5c8e",
   "metadata": {},
   "outputs": [
    {
     "name": "stdout",
     "output_type": "stream",
     "text": [
      "Correlation Matrix:\n",
      "                 Unnamed: 0      year  mmwr_week  covid_19_deaths  \\\n",
      "Unnamed: 0         1.000000  0.011262   0.009989         0.036129   \n",
      "year               0.011262  1.000000   0.033363         0.159780   \n",
      "mmwr_week          0.009989  0.033363   1.000000         0.003123   \n",
      "covid_19_deaths    0.036129  0.159780   0.003123         1.000000   \n",
      "distributed        0.047602  0.303141   0.038266         0.134438   \n",
      "...                     ...       ...        ...              ...   \n",
      "region_West        0.093032  0.035354   0.004936         0.039212   \n",
      "season_Fall        0.009636  0.013964   0.555491         0.015092   \n",
      "season_Spring      0.010516  0.006384   0.403033         0.057323   \n",
      "season_Summer      0.001617  0.035391   0.065263         0.070978   \n",
      "season_Winter      0.000929  0.040073   0.218917         0.133806   \n",
      "\n",
      "                 distributed  distributed_janssen  distributed_moderna  \\\n",
      "Unnamed: 0          0.047602             0.051534             0.051563   \n",
      "year                0.303141             0.257668             0.297647   \n",
      "mmwr_week           0.038266             0.027506             0.028747   \n",
      "covid_19_deaths     0.134438             0.167370             0.133343   \n",
      "distributed         1.000000             0.977599             0.996871   \n",
      "...                      ...                  ...                  ...   \n",
      "region_West         0.013154             0.007726             0.008605   \n",
      "season_Fall         0.031080             0.028967             0.025351   \n",
      "season_Spring       0.072731             0.067145             0.067315   \n",
      "season_Summer       0.034136             0.004132             0.023201   \n",
      "season_Winter       0.006896             0.031290             0.017410   \n",
      "\n",
      "                 distributed_pfizer  distributed_novavax  \\\n",
      "Unnamed: 0                 0.044272             0.026349   \n",
      "year                       0.302564             0.333586   \n",
      "mmwr_week                  0.030758             0.091791   \n",
      "covid_19_deaths            0.125156             0.005471   \n",
      "distributed                0.997878             0.917197   \n",
      "...                             ...                  ...   \n",
      "region_West                0.015881             0.032566   \n",
      "season_Fall                0.025624             0.043294   \n",
      "season_Spring              0.060008             0.141034   \n",
      "season_Summer              0.034378             0.170659   \n",
      "season_Winter              0.000007             0.076472   \n",
      "\n",
      "                 distributed_unk_manuf  ...     month  region_East  \\\n",
      "Unnamed: 0                    0.001214  ...  0.009174     0.063621   \n",
      "year                          0.007659  ...  0.023775     0.009921   \n",
      "mmwr_week                     0.073134  ...  0.938181     0.006308   \n",
      "covid_19_deaths               0.024051  ...  0.028959     0.035784   \n",
      "distributed                   0.078380  ...  0.033502     0.039940   \n",
      "...                                ...  ...       ...          ...   \n",
      "region_West                   0.003850  ...  0.003813     0.233632   \n",
      "season_Fall                   0.064562  ...  0.578756     0.002226   \n",
      "season_Spring                 0.032980  ...  0.379342     0.002412   \n",
      "season_Summer                 0.031367  ...  0.086568     0.029245   \n",
      "season_Winter                 0.002648  ...  0.283319     0.022477   \n",
      "\n",
      "                 region_Midwest  region_Puerto Rico  region_South  \\\n",
      "Unnamed: 0             0.007569            0.244980      0.031092   \n",
      "year                   0.002163            0.014366      0.036172   \n",
      "mmwr_week              0.003511            0.003294      0.001693   \n",
      "covid_19_deaths        0.030514            0.046603      0.047668   \n",
      "distributed            0.052840            0.044047      0.017911   \n",
      "...                         ...                 ...           ...   \n",
      "region_West            0.303093            0.076424      0.404122   \n",
      "season_Fall            0.004826            0.000066      0.008819   \n",
      "season_Spring          0.002407            0.000534      0.013286   \n",
      "season_Summer          0.004756            0.002374      0.016291   \n",
      "season_Winter          0.002561            0.001618      0.018941   \n",
      "\n",
      "                 region_West  season_Fall  season_Spring  season_Summer  \\\n",
      "Unnamed: 0          0.093032     0.009636       0.010516       0.001617   \n",
      "year                0.035354     0.013964       0.006384       0.035391   \n",
      "mmwr_week           0.004936     0.555491       0.403033       0.065263   \n",
      "covid_19_deaths     0.039212     0.015092       0.057323       0.070978   \n",
      "distributed         0.013154     0.031080       0.072731       0.034136   \n",
      "...                      ...          ...            ...            ...   \n",
      "region_West         1.000000     0.003271       0.019590       0.010824   \n",
      "season_Fall         0.003271     1.000000       0.327074       0.314077   \n",
      "season_Spring       0.019590     0.327074       1.000000       0.296448   \n",
      "season_Summer       0.010824     0.314077       0.296448       1.000000   \n",
      "season_Winter       0.005296     0.371808       0.350939       0.336994   \n",
      "\n",
      "                 season_Winter  \n",
      "Unnamed: 0            0.000929  \n",
      "year                  0.040073  \n",
      "mmwr_week             0.218917  \n",
      "covid_19_deaths       0.133806  \n",
      "distributed           0.006896  \n",
      "...                        ...  \n",
      "region_West           0.005296  \n",
      "season_Fall           0.371808  \n",
      "season_Spring         0.350939  \n",
      "season_Summer         0.336994  \n",
      "season_Winter         1.000000  \n",
      "\n",
      "[120 rows x 120 columns]\n"
     ]
    }
   ],
   "source": [
    "corr_matrix = data.corr().abs()\n",
    "print(\"Correlation Matrix:\")\n",
    "print(corr_matrix)"
   ]
  },
  {
   "cell_type": "code",
   "execution_count": 15,
   "id": "a2e6e06a",
   "metadata": {},
   "outputs": [
    {
     "name": "stdout",
     "output_type": "stream",
     "text": [
      "Correlation Matrix with Target Variable:\n",
      "Unnamed: 0        -0.036129\n",
      "year              -0.159780\n",
      "mmwr_week          0.003123\n",
      "covid_19_deaths    1.000000\n",
      "distributed        0.134438\n",
      "                     ...   \n",
      "region_West       -0.039212\n",
      "season_Fall       -0.015092\n",
      "season_Spring     -0.057323\n",
      "season_Summer     -0.070978\n",
      "season_Winter      0.133806\n",
      "Name: covid_19_deaths, Length: 120, dtype: float64\n"
     ]
    }
   ],
   "source": [
    "correlation_matrix = data.corr()['covid_19_deaths']\n",
    "print(\"Correlation Matrix with Target Variable:\")\n",
    "print(correlation_matrix)"
   ]
  },
  {
   "cell_type": "code",
   "execution_count": 16,
   "id": "53419818",
   "metadata": {},
   "outputs": [
    {
     "data": {
      "text/plain": [
       "<AxesSubplot:>"
      ]
     },
     "execution_count": 16,
     "metadata": {},
     "output_type": "execute_result"
    },
    {
     "data": {
      "image/png": "[encoded data removed]",
      "text/plain": [
       "<Figure size 432x288 with 2 Axes>"
      ]
     },
     "metadata": {
      "needs_background": "light"
     },
     "output_type": "display_data"
    }
   ],
   "source": [
    "correlation_df = pd.DataFrame(correlation_matrix)\n",
    "sns.heatmap(correlation_df.transpose(), annot=True)"
   ]
  },
  {
   "cell_type": "markdown",
   "id": "c15df88c",
   "metadata": {},
   "source": [
    "#### Removing columns that have both a large number of missing values and low correlation w target variable"
   ]
  },
  {
   "cell_type": "code",
   "execution_count": 18,
   "id": "3722d5bc",
   "metadata": {},
   "outputs": [],
   "source": [
    "# Removing columns that have both a large number of missing \n",
    "# values and low correlation w target variable\n",
    "\n",
    "threshold_missing = 0.5\n",
    "threshold_corr = 0.2\n",
    "\n",
    "target_corr = data.corr()['covid_19_deaths'].abs()\n",
    "missing_values = data.isnull().mean()"
   ]
  },
  {
   "cell_type": "code",
   "execution_count": 19,
   "id": "3534dd05",
   "metadata": {},
   "outputs": [
    {
     "data": {
      "text/plain": [
       "Unnamed: 0         0.036129\n",
       "year               0.159780\n",
       "mmwr_week          0.003123\n",
       "covid_19_deaths    1.000000\n",
       "distributed        0.134438\n",
       "                     ...   \n",
       "region_West        0.039212\n",
       "season_Fall        0.015092\n",
       "season_Spring      0.057323\n",
       "season_Summer      0.070978\n",
       "season_Winter      0.133806\n",
       "Name: covid_19_deaths, Length: 120, dtype: float64"
      ]
     },
     "execution_count": 19,
     "metadata": {},
     "output_type": "execute_result"
    }
   ],
   "source": [
    "target_corr"
   ]
  },
  {
   "cell_type": "code",
   "execution_count": 20,
   "id": "f7597e4e",
   "metadata": {},
   "outputs": [
    {
     "data": {
      "text/plain": [
       "Unnamed: 0       0.0\n",
       "date.x           0.0\n",
       "location         0.0\n",
       "year             0.0\n",
       "mmwr_week        0.0\n",
       "                ... \n",
       "region_West      0.0\n",
       "season_Fall      0.0\n",
       "season_Spring    0.0\n",
       "season_Summer    0.0\n",
       "season_Winter    0.0\n",
       "Length: 123, dtype: float64"
      ]
     },
     "execution_count": 20,
     "metadata": {},
     "output_type": "execute_result"
    }
   ],
   "source": [
    "missing_values"
   ]
  },
  {
   "cell_type": "code",
   "execution_count": 21,
   "id": "ed09a9a1",
   "metadata": {},
   "outputs": [
    {
     "data": {
      "text/plain": [
       "{'additional_doses',\n",
       " 'additional_doses_12plus_vax_pct',\n",
       " 'additional_doses_5plus_vax_pct',\n",
       " 'bivalent_booster_12plus_pop_pct',\n",
       " 'bivalent_booster_18plus_pop_pct',\n",
       " 'bivalent_booster_5plus_pop_pct',\n",
       " 'bivalent_booster_65plus_pop_pct',\n",
       " 'second_booster_50plus_vax_pct',\n",
       " 'second_booster_65plus_vax_pct',\n",
       " 'series_complete_unk_manuf_5plus'}"
      ]
     },
     "execution_count": 21,
     "metadata": {},
     "output_type": "execute_result"
    }
   ],
   "source": [
    "to_drop_missing = data.columns[missing_values > threshold_missing]\n",
    "to_drop_corr = target_corr[target_corr < threshold_corr].index\n",
    "\n",
    "to_drop_combined = set(to_drop_missing).intersection(to_drop_corr)\n",
    "to_drop_combined"
   ]
  }
 ],
 "metadata": {
  "kernelspec": {
   "display_name": "Python 3 (ipykernel)",
   "language": "python",
   "name": "python3"
  },
  "language_info": {
   "codemirror_mode": {
    "name": "ipython",
    "version": 3
   },
   "file_extension": ".py",
   "mimetype": "text/x-python",
   "name": "python",
   "nbconvert_exporter": "python",
   "pygments_lexer": "ipython3",
   "version": "3.9.12"
  }
 },
 "nbformat": 4,
 "nbformat_minor": 5
}
