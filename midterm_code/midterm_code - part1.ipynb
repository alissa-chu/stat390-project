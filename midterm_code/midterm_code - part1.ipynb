{
 "cells": [
  {
   "cell_type": "code",
   "execution_count": 1,
   "id": "8bba3bf7",
   "metadata": {},
   "outputs": [],
   "source": [
    "import pandas as pd\n",
    "import datetime\n",
    "import numpy as np\n",
    "import seaborn as sns\n",
    "import matplotlib.pyplot as plt\n",
    "from sklearn.metrics import mean_squared_error\n",
    "from sklearn.model_selection import cross_val_score,train_test_split, KFold, cross_val_predict\n",
    "from sklearn.metrics import mean_squared_error,r2_score,roc_curve,auc,precision_recall_curve, accuracy_score, \\\n",
    "recall_score, precision_score, confusion_matrix, mean_absolute_error\n",
    "from sklearn.tree import DecisionTreeRegressor,DecisionTreeClassifier\n",
    "from sklearn.model_selection import GridSearchCV, ParameterGrid, StratifiedKFold, RandomizedSearchCV\n",
    "from sklearn.ensemble import GradientBoostingRegressor,GradientBoostingClassifier, BaggingRegressor,BaggingClassifier,RandomForestRegressor,RandomForestClassifier,AdaBoostRegressor,AdaBoostClassifier\n",
    "from sklearn.linear_model import LinearRegression,LogisticRegression\n",
    "from sklearn.neighbors import KNeighborsRegressor\n",
    "import itertools as it\n",
    "import time as time\n",
    "import xgboost as xgb\n",
    "import statsmodels.api as sm\n",
    "import matplotlib.pyplot as plt\n",
    "from statsmodels.tsa.seasonal import seasonal_decompose\n",
    "from statsmodels.tsa.stattools import adfuller\n",
    "from statsmodels.graphics.tsaplots import plot_acf, acf\n",
    "from statsmodels.graphics.tsaplots import plot_pacf, pacf\n",
    "import holidays"
   ]
  },
  {
   "cell_type": "markdown",
   "id": "18fe49f7",
   "metadata": {},
   "source": [
    "# Data Cleaning and Filtering"
   ]
  },
  {
   "cell_type": "markdown",
   "id": "b0942500",
   "metadata": {},
   "source": [
    "### vaccine dataset"
   ]
  },
  {
   "cell_type": "markdown",
   "id": "1c67b1d4",
   "metadata": {},
   "source": [
    "- created a ‘year’ and a ‘month’ column from the initial ‘date’ column\n",
    "- dropped rows where the location was the United States\n",
    "- dropped additional rows where the location was not a US state"
   ]
  },
  {
   "cell_type": "code",
   "execution_count": 2,
   "id": "75d28315",
   "metadata": {},
   "outputs": [],
   "source": [
    "vaccine_data = pd.read_csv('data/COVID-19_Vaccinations_in_the_United_States_Jurisdiction_20240111.csv')"
   ]
  },
  {
   "cell_type": "code",
   "execution_count": 4,
   "id": "2a22aa63",
   "metadata": {},
   "outputs": [],
   "source": [
    "vaccine_data['Date'] = pd.DatetimeIndex(vaccine_data['Date'])\n",
    "vaccine_data['year'] = pd.DatetimeIndex(vaccine_data['Date']).year\n",
    "vaccine_data['month'] = pd.DatetimeIndex(vaccine_data['Date']).month"
   ]
  },
  {
   "cell_type": "code",
   "execution_count": 6,
   "id": "8e11529a",
   "metadata": {},
   "outputs": [],
   "source": [
    "vaccine_data = vaccine_data[vaccine_data.Location != 'US']"
   ]
  },
  {
   "cell_type": "code",
   "execution_count": 21,
   "id": "4196ea69",
   "metadata": {},
   "outputs": [],
   "source": [
    "us_states = [\n",
    "'CT',\n",
    "'MA',\n",
    "'ME',\n",
    "'NH',\n",
    "'NJ',\n",
    "'NY',\n",
    "'PA',\n",
    "'RI',\n",
    "'VT',\n",
    "'IA',\n",
    "'IL',\n",
    "'IN',\n",
    "'KS',\n",
    "'MI',\n",
    "'MN',\n",
    "'MO',\n",
    "'ND',\n",
    "'NE',\n",
    "'OH',\n",
    "'SD',\n",
    "'WI',\n",
    "'AL',\n",
    "'AR',\n",
    "'DC',\n",
    "'DE',\n",
    "'FL',\n",
    "'GA',\n",
    "'KY',\n",
    "'LA',\n",
    "'MD',\n",
    "'MS',\n",
    "'NC',\n",
    "'OK',\n",
    "'SC',\n",
    "'TN',\n",
    "'TX',\n",
    "'VA',\n",
    "'WV',\n",
    "'AK',\n",
    "'AZ',\n",
    "'CA',\n",
    "'CO',\n",
    "'HI',\n",
    "'ID',\n",
    "'MT',\n",
    "'NM',\n",
    "'NV',\n",
    "'OR',\n",
    "'UT',\n",
    "'WA',\n",
    "'WY'\n",
    "]\n",
    "vaccine_data = vaccine_data.loc[vaccine_data['Location'].isin(us_states)]"
   ]
  },
  {
   "cell_type": "markdown",
   "id": "539d7fc9",
   "metadata": {},
   "source": [
    "**temporal aggregation done in R** (went through all the data points before 06/16/2022 that were daily data and kept only the data from Wednesday of each week)"
   ]
  },
  {
   "cell_type": "markdown",
   "id": "6f6d783f",
   "metadata": {},
   "source": [
    "### death dataset"
   ]
  },
  {
   "cell_type": "markdown",
   "id": "d45a9490",
   "metadata": {},
   "source": [
    "- combining the observations of New York and New York City together into a single state New York after grouping by Date, Week, and Year and summing the death counts together\n",
    "- addressed challenges with inconsistent naming of Washington, DC which was named District of Columbia in one dataset and DC in the other\n",
    "- dropped rows where the location was the United States."
   ]
  },
  {
   "cell_type": "code",
   "execution_count": 3,
   "id": "d77187e7",
   "metadata": {},
   "outputs": [],
   "source": [
    "death_data = pd.read_csv('data/deaths_with_abbs.csv')"
   ]
  },
  {
   "cell_type": "markdown",
   "id": "5889fadb",
   "metadata": {},
   "source": [
    "Death dataset cleaned in R. Temporal aggreagtion done in R (filtered for only data that was grouped by week)."
   ]
  },
  {
   "cell_type": "markdown",
   "id": "ae376252",
   "metadata": {},
   "source": [
    "### merged dataset"
   ]
  },
  {
   "cell_type": "markdown",
   "id": "dad1168d",
   "metadata": {},
   "source": [
    "- merged them on ‘location’, ‘mmwr_week’, and ‘year’\n",
    "- dropped rows where COVID-19 deaths were NA, because COVID deaths is our target variable\n",
    "- dropped duplicate columns that contained the same information (‘state’, ‘month.x’, ‘month.y’, ‘date.y’, ‘day_of_week’)\n",
    "- created columns such as a ‘region’ column based on the US state in order to group observations\n",
    "- created a ‘holiday’ column and a ‘season’ column\n",
    "- one hot encoded those three new columns to change them from categorical to numerical features\n",
    "- imputed zero for NA values for all vaccinations before 12/19/2020 because vaccinations were not available before that date\n",
    "- checked for missingness, correlations, and outliers\n",
    "    - no outliers\n",
    "    - dropped columns that had both low correlation (correlation below 0.1)  and a large amount of missing data (at least 60% missing rows)"
   ]
  },
  {
   "cell_type": "code",
   "execution_count": null,
   "id": "6fd4322f",
   "metadata": {},
   "outputs": [],
   "source": [
    "merged = vaccine_data.merge(death_data, left_on = ['MMWR_week', 'Location', 'year'], \n",
    "                                   right_on = ['MMWR Week', 'Location', 'Year'],\n",
    "                                   how = 'left')"
   ]
  },
  {
   "cell_type": "code",
   "execution_count": null,
   "id": "e2e489d3",
   "metadata": {},
   "outputs": [],
   "source": [
    "merged = merged[~merged['COVID-19 Deaths'].isna()]\n",
    "merged = merged.rename(columns={'COVID-19 Deaths': 'covid19_deaths'})"
   ]
  },
  {
   "cell_type": "code",
   "execution_count": null,
   "id": "32e8878f",
   "metadata": {},
   "outputs": [],
   "source": [
    "merged.drop(['state', 'month.x', 'month.y', 'date.y', 'day_of_week'], axis = 1, inplace = True)  "
   ]
  },
  {
   "cell_type": "code",
   "execution_count": null,
   "id": "0907ec58",
   "metadata": {},
   "outputs": [],
   "source": [
    "east = [\n",
    "'CT',\n",
    "'MA',\n",
    "'ME',\n",
    "'NH',\n",
    "'NJ',\n",
    "'NY',\n",
    "'PA',\n",
    "'RI',\n",
    "'VT'\n",
    "]\n",
    "midwest = [\n",
    "'IA',\n",
    "'IL',\n",
    "'IN',\n",
    "'KS',\n",
    "'MI',\n",
    "'MN',\n",
    "'MO',\n",
    "'ND',\n",
    "'NE',\n",
    "'OH',\n",
    "'SD',\n",
    "'WI'\n",
    "]\n",
    "south = [\n",
    "'AL',\n",
    "'AR',\n",
    "'DC',\n",
    "'DE',\n",
    "'FL',\n",
    "'GA',\n",
    "'KY',\n",
    "'LA',\n",
    "'MD',\n",
    "'MS',\n",
    "'NC',\n",
    "'OK',\n",
    "'SC',\n",
    "'TN',\n",
    "'TX',\n",
    "'VA',\n",
    "'WV'\n",
    "]\n",
    "west = [\n",
    "'AK',\n",
    "'AZ',\n",
    "'CA',\n",
    "'CO',\n",
    "'HI',\n",
    "'ID',\n",
    "'MT',\n",
    "'NM',\n",
    "'NV',\n",
    "'OR',\n",
    "'UT',\n",
    "'WA',\n",
    "'WY'\n",
    "]\n",
    "\n",
    "merged[\"region\"] = merged[\"Location\"].apply(lambda x: \"East\" if x in east else\n",
    "                                       (\"Midwest\" if x in midwest else\n",
    "                                        (\"South\" if x in south else\n",
    "                                         (\"West\" if x in west else 'Other'))))"
   ]
  },
  {
   "cell_type": "code",
   "execution_count": null,
   "id": "36248581",
   "metadata": {},
   "outputs": [],
   "source": [
    "fall = [9, 10, 11]\n",
    "winter = [12, 1, 2]\n",
    "spring = [3, 4, 5]\n",
    "summer = [6, 7, 8]\n",
    "\n",
    "merged[\"season\"] = merged[\"month\"].apply(lambda x: \"fall\" if x in fall else\n",
    "                                       (\"winter\" if x in winter else\n",
    "                                        (\"spring\" if x in spring else\n",
    "                                         (\"summer\" if x in summer else 'Other'))))"
   ]
  },
  {
   "cell_type": "code",
   "execution_count": null,
   "id": "def8f7d7",
   "metadata": {},
   "outputs": [],
   "source": [
    "! pip install --upgrade holidays\n",
    "\n",
    "merged['date']= pd.to_datetime(merged['date'])\n",
    "merged['holidays'] = merged['date'].apply( lambda x: 'Holiday' if x in holidays.US() \n",
    "                                      else 'Holiday' if x + datetime.timedelta(days=1) in holidays.US() else 'Normal day' )"
   ]
  },
  {
   "cell_type": "code",
   "execution_count": null,
   "id": "a2f6fd0f",
   "metadata": {},
   "outputs": [],
   "source": [
    "merged = pd.get_dummies(merged, columns=['region', 'season', 'holidays'])"
   ]
  },
  {
   "cell_type": "markdown",
   "id": "2b929b8d",
   "metadata": {},
   "source": [
    "The csv file after these steps: merged_cleaned_processed.csv"
   ]
  },
  {
   "cell_type": "markdown",
   "id": "fea585f4",
   "metadata": {},
   "source": [
    "For next steps, check emily-multivariate preprocessing file\n",
    "- removes constant and quasi-constant features\n",
    "- removes redundant features\n",
    "- removes large missing & low correlation features"
   ]
  },
  {
   "cell_type": "markdown",
   "id": "e1596d3d",
   "metadata": {},
   "source": [
    "# Univariate EDA"
   ]
  },
  {
   "cell_type": "markdown",
   "id": "2d5a0e01",
   "metadata": {},
   "source": [
    "### time series decomposition"
   ]
  },
  {
   "cell_type": "code",
   "execution_count": 28,
   "id": "5224bae3",
   "metadata": {},
   "outputs": [],
   "source": [
    "cleaned = pd.read_csv('stat390-project/data/merged_cleaned_processed.csv')\n",
    "cleaned = cleaned.groupby('date').sum()\n",
    "data = cleaned[['covid_19_deaths']]"
   ]
  },
  {
   "cell_type": "code",
   "execution_count": 30,
   "id": "2d287923",
   "metadata": {},
   "outputs": [
    {
     "data": {
      "image/png": "[encoded data removed]",
      "text/plain": [
       "<Figure size 432x288 with 4 Axes>"
      ]
     },
     "metadata": {
      "needs_background": "light"
     },
     "output_type": "display_data"
    }
   ],
   "source": [
    "seasonal_period = 20\n",
    "result = sm.tsa.seasonal_decompose(data, period=seasonal_period)\n",
    "trend = result.trend\n",
    "seasonal = result.seasonal\n",
    "residual = result.resid\n",
    "result.plot()\n",
    "plt.show()"
   ]
  },
  {
   "cell_type": "markdown",
   "id": "c60c483b",
   "metadata": {},
   "source": [
    "**additional temporal analysis done in R**\n",
    "- histograms of the distribution of temporal features\n",
    "- boxplots of covid-19 deaths by month and by week\n",
    "- distributions of holidays and seasons"
   ]
  },
  {
   "cell_type": "markdown",
   "id": "6bb058dd",
   "metadata": {},
   "source": [
    "### ACF"
   ]
  },
  {
   "cell_type": "code",
   "execution_count": 34,
   "id": "6f41bd8e",
   "metadata": {},
   "outputs": [
    {
     "data": {
      "image/png": "[encoded data removed]",
      "text/plain": [
       "<Figure size 432x288 with 1 Axes>"
      ]
     },
     "metadata": {
      "needs_background": "light"
     },
     "output_type": "display_data"
    }
   ],
   "source": [
    "plot_acf(data['covid_19_deaths'], lags = 110)  # Adjust the number of lags as needed\n",
    "plt.xlabel('Lag')\n",
    "plt.ylabel('Autocorrelation')\n",
    "plt.title('Autocorrelation Function (ACF)')\n",
    "plt.show()"
   ]
  },
  {
   "cell_type": "markdown",
   "id": "1d5e0b4b",
   "metadata": {},
   "source": [
    "**PACF graph in midterm_code - part2**"
   ]
  },
  {
   "cell_type": "markdown",
   "id": "41c0f9d4",
   "metadata": {},
   "source": [
    "### Stationarity Analysis"
   ]
  },
  {
   "cell_type": "code",
   "execution_count": 18,
   "id": "7afb4fde",
   "metadata": {},
   "outputs": [],
   "source": [
    "east = pd.read_csv('data/univar_data/east_daily.csv')\n",
    "midwest = pd.read_csv('data/univar_data/midwest_daily.csv')\n",
    "south = pd.read_csv('data/univar_data/south_daily.csv')\n",
    "west = pd.read_csv('data/univar_data/west_daily.csv')"
   ]
  },
  {
   "cell_type": "code",
   "execution_count": 11,
   "id": "62caf1df",
   "metadata": {},
   "outputs": [
    {
     "name": "stdout",
     "output_type": "stream",
     "text": [
      "ADF Statistic: -3.842138\n",
      "p-value: 0.002504\n",
      "Critical Values:\n",
      "\t1%: -3.436\n",
      "\t5%: -2.864\n",
      "\t10%: -2.568\n"
     ]
    }
   ],
   "source": [
    "X = east.daily_deaths\n",
    "result = adfuller(X)\n",
    "print('ADF Statistic: %f' % result[0])\n",
    "print('p-value: %f' % result[1])\n",
    "print('Critical Values:')\n",
    "for key, value in result[4].items():\n",
    " print('\\t%s: %.3f' % (key, value))"
   ]
  },
  {
   "cell_type": "code",
   "execution_count": 13,
   "id": "f9c99e89",
   "metadata": {},
   "outputs": [
    {
     "name": "stdout",
     "output_type": "stream",
     "text": [
      "ADF Statistic: -2.473716\n",
      "p-value: 0.122001\n",
      "Critical Values:\n",
      "\t1%: -3.436\n",
      "\t5%: -2.864\n",
      "\t10%: -2.568\n"
     ]
    }
   ],
   "source": [
    "X = midwest.daily_deaths\n",
    "result = adfuller(X)\n",
    "print('ADF Statistic: %f' % result[0])\n",
    "print('p-value: %f' % result[1])\n",
    "print('Critical Values:')\n",
    "for key, value in result[4].items():\n",
    " print('\\t%s: %.3f' % (key, value))"
   ]
  },
  {
   "cell_type": "code",
   "execution_count": 35,
   "id": "6a73fa9f",
   "metadata": {},
   "outputs": [
    {
     "name": "stdout",
     "output_type": "stream",
     "text": [
      "ADF Statistic: -3.104854\n",
      "p-value: 0.026196\n",
      "Critical Values:\n",
      "\t1%: -3.436\n",
      "\t5%: -2.864\n",
      "\t10%: -2.568\n"
     ]
    }
   ],
   "source": [
    "X = south.daily_deaths\n",
    "result = adfuller(X)\n",
    "print('ADF Statistic: %f' % result[0])\n",
    "print('p-value: %f' % result[1])\n",
    "print('Critical Values:')\n",
    "for key, value in result[4].items():\n",
    " print('\\t%s: %.3f' % (key, value))"
   ]
  },
  {
   "cell_type": "code",
   "execution_count": 36,
   "id": "7b1389b1",
   "metadata": {},
   "outputs": [
    {
     "name": "stdout",
     "output_type": "stream",
     "text": [
      "ADF Statistic: -2.816341\n",
      "p-value: 0.055977\n",
      "Critical Values:\n",
      "\t1%: -3.436\n",
      "\t5%: -2.864\n",
      "\t10%: -2.568\n"
     ]
    }
   ],
   "source": [
    "X = west.daily_deaths\n",
    "result = adfuller(X)\n",
    "print('ADF Statistic: %f' % result[0])\n",
    "print('p-value: %f' % result[1])\n",
    "print('Critical Values:')\n",
    "for key, value in result[4].items():\n",
    " print('\\t%s: %.3f' % (key, value))"
   ]
  },
  {
   "cell_type": "markdown",
   "id": "28d9eec6",
   "metadata": {},
   "source": [
    "midwest, south, and west are not stationary - ryan made stationary in R (new stationarity below)"
   ]
  },
  {
   "cell_type": "code",
   "execution_count": 37,
   "id": "d77ded49",
   "metadata": {},
   "outputs": [],
   "source": [
    "# same east dataset\n",
    "east_stationary = pd.read_csv('data/univar_data/east_daily.csv')\n",
    "\n",
    "# new stationary datasets\n",
    "midwest_stationary = pd.read_csv('data/univar_data/midwest_stationary.csv')\n",
    "south_stationary = pd.read_csv('data/univar_data/south_stationary.csv')\n",
    "west_stationary = pd.read_csv('data/univar_data/west_stationary.csv')"
   ]
  },
  {
   "cell_type": "code",
   "execution_count": 38,
   "id": "8437ed1b",
   "metadata": {},
   "outputs": [
    {
     "name": "stdout",
     "output_type": "stream",
     "text": [
      "ADF Statistic: -6.609058\n",
      "p-value: 0.000000\n",
      "Critical Values:\n",
      "\t1%: -3.436\n",
      "\t5%: -2.864\n",
      "\t10%: -2.568\n"
     ]
    }
   ],
   "source": [
    "X = midwest_stationary.daily_deaths\n",
    "result = adfuller(X)\n",
    "print('ADF Statistic: %f' % result[0])\n",
    "print('p-value: %f' % result[1])\n",
    "print('Critical Values:')\n",
    "for key, value in result[4].items():\n",
    " print('\\t%s: %.3f' % (key, value))"
   ]
  },
  {
   "cell_type": "code",
   "execution_count": 39,
   "id": "fbbe5b58",
   "metadata": {},
   "outputs": [
    {
     "name": "stdout",
     "output_type": "stream",
     "text": [
      "ADF Statistic: -6.154608\n",
      "p-value: 0.000000\n",
      "Critical Values:\n",
      "\t1%: -3.436\n",
      "\t5%: -2.864\n",
      "\t10%: -2.568\n"
     ]
    }
   ],
   "source": [
    "X = south_stationary.daily_deaths\n",
    "result = adfuller(X)\n",
    "print('ADF Statistic: %f' % result[0])\n",
    "print('p-value: %f' % result[1])\n",
    "print('Critical Values:')\n",
    "for key, value in result[4].items():\n",
    " print('\\t%s: %.3f' % (key, value))"
   ]
  },
  {
   "cell_type": "code",
   "execution_count": 40,
   "id": "2915d155",
   "metadata": {},
   "outputs": [
    {
     "name": "stdout",
     "output_type": "stream",
     "text": [
      "ADF Statistic: -5.689075\n",
      "p-value: 0.000001\n",
      "Critical Values:\n",
      "\t1%: -3.436\n",
      "\t5%: -2.864\n",
      "\t10%: -2.568\n"
     ]
    }
   ],
   "source": [
    "X = west_stationary.daily_deaths\n",
    "result = adfuller(X)\n",
    "print('ADF Statistic: %f' % result[0])\n",
    "print('p-value: %f' % result[1])\n",
    "print('Critical Values:')\n",
    "for key, value in result[4].items():\n",
    " print('\\t%s: %.3f' % (key, value))"
   ]
  },
  {
   "cell_type": "markdown",
   "id": "614ff7d6",
   "metadata": {},
   "source": [
    "**additional univariate visualizations done in R**\n",
    "- Those visualizations show that log transformations may be necessary."
   ]
  }
 ],
 "metadata": {
  "kernelspec": {
   "display_name": "Python 3 (ipykernel)",
   "language": "python",
   "name": "python3"
  },
  "language_info": {
   "codemirror_mode": {
    "name": "ipython",
    "version": 3
   },
   "file_extension": ".py",
   "mimetype": "text/x-python",
   "name": "python",
   "nbconvert_exporter": "python",
   "pygments_lexer": "ipython3",
   "version": "3.9.12"
  }
 },
 "nbformat": 4,
 "nbformat_minor": 5
}
